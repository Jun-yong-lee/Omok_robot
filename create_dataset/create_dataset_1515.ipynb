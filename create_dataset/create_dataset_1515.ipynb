{
 "cells": [
  {
   "attachments": {},
   "cell_type": "markdown",
   "metadata": {},
   "source": [
    "# Create standard dataset"
   ]
  },
  {
   "attachments": {},
   "cell_type": "markdown",
   "metadata": {},
   "source": [
    "## Import library"
   ]
  },
  {
   "cell_type": "code",
   "execution_count": 1,
   "metadata": {},
   "outputs": [],
   "source": [
    "import numpy as np\n",
    "from glob import glob\n",
    "from tqdm import tqdm\n",
    "import os"
   ]
  },
  {
   "attachments": {},
   "cell_type": "markdown",
   "metadata": {},
   "source": [
    "## 데이터 전처리 과정"
   ]
  },
  {
   "cell_type": "code",
   "execution_count": 2,
   "metadata": {},
   "outputs": [],
   "source": [
    "game_rule = 'Standard'\n",
    "base_path = 'dataset'\n",
    "\n",
    "output_path = os.path.join(os.path.basename(base_path), 'dataset_1515' )\n",
    "os.makedirs(output_path, exist_ok=True)"
   ]
  },
  {
   "cell_type": "code",
   "execution_count": 3,
   "metadata": {},
   "outputs": [],
   "source": [
    "# 경로에 있는 모든 psq파일을 file_list에 저장\n",
    "file_list = glob(os.path.join(base_path, '%s*/*.psq' % (game_rule, )))"
   ]
  },
  {
   "cell_type": "code",
   "execution_count": 4,
   "metadata": {},
   "outputs": [
    {
     "name": "stderr",
     "output_type": "stream",
     "text": [
      "100%|██████████| 2496/2496 [00:30<00:00, 80.78it/s] \n"
     ]
    }
   ],
   "source": [
    "for index, file_path in enumerate(tqdm(file_list)):\n",
    "    with open(file_path, 'r') as f:\n",
    "        lines = f.read().splitlines()\n",
    "\n",
    "    w, h = lines[0].split(' ')[1].strip(',').split('x')\n",
    "    w, h = int(w), int(h)\n",
    "\n",
    "    lines = lines[1:]\n",
    "\n",
    "    inputs, outputs = [], []\n",
    "    board = np.zeros([h, w], dtype=np.int8)\n",
    "\n",
    "    for i, line in enumerate(lines):\n",
    "        if ',' not in line:\n",
    "            break\n",
    "        x, y, t = np.array(line.split(','), np.int8)\n",
    "\n",
    "        if i % 2 == 0:\n",
    "            player = 1\n",
    "        else:\n",
    "            player = 2\n",
    "\n",
    "        input1 = board.copy().astype(np.int8)\n",
    "        input1[(input1 != player) & (input1 != 0)] = -1\n",
    "        input1[(input1 == player) & (input1 != 0)] = 1\n",
    "\n",
    "        output = np.zeros([h, w], dtype=np.int8)\n",
    "        output[y-1, x-1] = 1\n",
    "\n",
    "        for k in range(4):\n",
    "            input_rot = np.rot90(input1, k=k)\n",
    "            output_rot = np.rot90(output, k=k)\n",
    "\n",
    "            inputs.append(input_rot)\n",
    "            outputs.append(output_rot)\n",
    "\n",
    "            inputs.append(np.fliplr(input_rot))\n",
    "            outputs.append(np.fliplr(output_rot))\n",
    "\n",
    "            inputs.append(np.flipud(input_rot))\n",
    "            outputs.append(np.flipud(output_rot))\n",
    "\n",
    "        board[y-1, x-1] = player\n",
    "    np.savez_compressed(os.path.join(output_path, '%s.npz' % (str(index).zfill(5))), inputs=inputs, outputs=outputs)"
   ]
  },
  {
   "cell_type": "code",
   "execution_count": null,
   "metadata": {},
   "outputs": [],
   "source": []
  }
 ],
 "metadata": {
  "kernelspec": {
   "display_name": "Omok_Robot_gpu",
   "language": "python",
   "name": "python3"
  },
  "language_info": {
   "codemirror_mode": {
    "name": "ipython",
    "version": 3
   },
   "file_extension": ".py",
   "mimetype": "text/x-python",
   "name": "python",
   "nbconvert_exporter": "python",
   "pygments_lexer": "ipython3",
   "version": "3.7.13"
  },
  "orig_nbformat": 4
 },
 "nbformat": 4,
 "nbformat_minor": 2
}
