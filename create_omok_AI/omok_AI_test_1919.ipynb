{
 "cells": [
  {
   "cell_type": "code",
   "execution_count": 1,
   "id": "olive-moderator",
   "metadata": {},
   "outputs": [],
   "source": [
    "import tensorflow as tf\n",
    "gpu = tf.config.experimental.list_physical_devices('GPU') # 내 컴에 장착된 GPU를 list로 반환\n",
    "try:\n",
    "    tf.config.experimental.set_memory_growth(gpu[0], True) # GPU Memory Growth를 Enable\n",
    "except RuntimeError as e:\n",
    "    print(e) # Error 발생하면 Error 내용 출력"
   ]
  },
  {
   "cell_type": "code",
   "execution_count": 2,
   "id": "cordless-cradle",
   "metadata": {},
   "outputs": [
    {
     "name": "stdout",
     "output_type": "stream",
     "text": [
      "WARNING:tensorflow:From C:\\Users\\wnsdy\\AppData\\Local\\Temp\\ipykernel_15400\\2971426587.py:7: The name tf.keras.backend.set_session is deprecated. Please use tf.compat.v1.keras.backend.set_session instead.\n",
      "\n"
     ]
    }
   ],
   "source": [
    "config = tf.compat.v1.ConfigProto(gpu_options = \n",
    "                         tf.compat.v1.GPUOptions(per_process_gpu_memory_fraction=0.8)\n",
    "# device_count = {'GPU': 1}\n",
    ")\n",
    "config.gpu_options.allow_growth = True\n",
    "session = tf.compat.v1.Session(config=config)\n",
    "tf.compat.v1.keras.backend.set_session(session)"
   ]
  },
  {
   "cell_type": "code",
   "execution_count": 3,
   "id": "technical-literature",
   "metadata": {},
   "outputs": [],
   "source": [
    "import tensorflow.keras as keras\n",
    "from tensorflow.keras import layers, models\n",
    "import numpy as np\n",
    "from sklearn.model_selection import train_test_split\n",
    "from glob import glob\n",
    "import os\n",
    "from tqdm import tqdm\n",
    "from datetime import datetime\n",
    "from tensorflow.keras.callbacks import ModelCheckpoint, ReduceLROnPlateau, EarlyStopping\n",
    "from tensorflow.keras.utils import plot_model"
   ]
  },
  {
   "cell_type": "code",
   "execution_count": 4,
   "id": "sublime-direction",
   "metadata": {},
   "outputs": [
    {
     "data": {
      "text/plain": [
       "'2.4.0'"
      ]
     },
     "execution_count": 4,
     "metadata": {},
     "output_type": "execute_result"
    }
   ],
   "source": [
    "tf.__version__"
   ]
  },
  {
   "cell_type": "code",
   "execution_count": 5,
   "id": "reasonable-international",
   "metadata": {},
   "outputs": [
    {
     "data": {
      "text/plain": [
       "[name: \"/device:CPU:0\"\n",
       " device_type: \"CPU\"\n",
       " memory_limit: 268435456\n",
       " locality {\n",
       " }\n",
       " incarnation: 14841742870731751880,\n",
       " name: \"/device:GPU:0\"\n",
       " device_type: \"GPU\"\n",
       " memory_limit: 6871947673\n",
       " locality {\n",
       "   bus_id: 1\n",
       "   links {\n",
       "   }\n",
       " }\n",
       " incarnation: 356186169824293549\n",
       " physical_device_desc: \"device: 0, name: GeForce RTX 2060 SUPER, pci bus id: 0000:09:00.0, compute capability: 7.5\"]"
      ]
     },
     "execution_count": 5,
     "metadata": {},
     "output_type": "execute_result"
    }
   ],
   "source": [
    "from tensorflow.python.client import device_lib\n",
    "device_lib.list_local_devices()"
   ]
  },
  {
   "cell_type": "code",
   "execution_count": 6,
   "id": "defined-latest",
   "metadata": {
    "scrolled": true
   },
   "outputs": [
    {
     "name": "stderr",
     "output_type": "stream",
     "text": [
      "100%|███████████████████████████████████████████████████████████████████████████| 26112/26112 [00:44<00:00, 580.97it/s]\n"
     ]
    },
    {
     "name": "stdout",
     "output_type": "stream",
     "text": [
      "(7325190, 19, 19, 1) (7325190, 361)\n",
      "(976692, 19, 19, 1) (976692, 361)\n",
      "(1465038, 19, 19, 1) (1465038, 361)\n"
     ]
    }
   ],
   "source": [
    "w, h = 19, 19\n",
    "train_ratio = 0.75\n",
    "validation_ratio = 0.15\n",
    "test_ratio = 0.10\n",
    "\n",
    "file_list = glob('C:\\jupyter_notebook\\omok_AI_project\\gomocup_Freestyle_results\\*.npz')\n",
    "# C:\\jupyter_notebook\\omok_AI_project\\dataset_test\\dataset_test\\gomocup2021results\n",
    "x_data, y_data = [], []\n",
    "for file_path in tqdm(file_list):\n",
    "    data = np.load(file_path)\n",
    "    x_data.extend(data['inputs'])\n",
    "    y_data.extend(data['outputs'])\n",
    "\n",
    "x_data = np.array(x_data, np.float32).reshape((-1, h, w, 1))\n",
    "y_data = np.array(y_data, np.float32).reshape((-1, h * w))\n",
    "\n",
    "x_train, x_test, y_train, y_test = train_test_split(x_data, y_data, test_size=1 - train_ratio, random_state=2394)\n",
    "x_val, x_test, y_val, y_test = train_test_split(x_test, y_test, test_size=test_ratio/(test_ratio + validation_ratio), random_state=2394) \n",
    "\n",
    "\n",
    "# x_train, x_test, y_train, y_test = train_test_split(x_data, y_data, test_size=0.2, random_state=2394)\n",
    "\n",
    "del x_data, y_data\n",
    "\n",
    "print(x_train.shape, y_train.shape)\n",
    "print(x_test.shape, y_test.shape)\n",
    "print(x_val.shape, y_val.shape)"
   ]
  },
  {
   "cell_type": "code",
   "execution_count": 7,
   "id": "mathematical-account",
   "metadata": {},
   "outputs": [
    {
     "data": {
      "text/plain": [
       "361"
      ]
     },
     "execution_count": 7,
     "metadata": {},
     "output_type": "execute_result"
    }
   ],
   "source": [
    "len(y_train[0])"
   ]
  },
  {
   "cell_type": "code",
   "execution_count": 8,
   "id": "f6d03c64",
   "metadata": {},
   "outputs": [
    {
     "data": {
      "text/plain": [
       "array([[[[ 0.],\n",
       "         [ 0.],\n",
       "         [ 0.],\n",
       "         ...,\n",
       "         [ 0.],\n",
       "         [ 0.],\n",
       "         [ 0.]],\n",
       "\n",
       "        [[ 0.],\n",
       "         [ 0.],\n",
       "         [ 0.],\n",
       "         ...,\n",
       "         [ 0.],\n",
       "         [ 0.],\n",
       "         [ 0.]],\n",
       "\n",
       "        [[ 0.],\n",
       "         [ 0.],\n",
       "         [ 0.],\n",
       "         ...,\n",
       "         [ 0.],\n",
       "         [ 0.],\n",
       "         [ 0.]],\n",
       "\n",
       "        ...,\n",
       "\n",
       "        [[ 0.],\n",
       "         [ 0.],\n",
       "         [ 0.],\n",
       "         ...,\n",
       "         [ 0.],\n",
       "         [ 0.],\n",
       "         [ 0.]],\n",
       "\n",
       "        [[ 0.],\n",
       "         [ 0.],\n",
       "         [ 0.],\n",
       "         ...,\n",
       "         [ 0.],\n",
       "         [ 0.],\n",
       "         [ 0.]],\n",
       "\n",
       "        [[ 0.],\n",
       "         [ 0.],\n",
       "         [ 0.],\n",
       "         ...,\n",
       "         [ 0.],\n",
       "         [ 0.],\n",
       "         [ 0.]]],\n",
       "\n",
       "\n",
       "       [[[ 0.],\n",
       "         [ 0.],\n",
       "         [ 0.],\n",
       "         ...,\n",
       "         [ 0.],\n",
       "         [ 0.],\n",
       "         [ 0.]],\n",
       "\n",
       "        [[ 0.],\n",
       "         [ 0.],\n",
       "         [ 0.],\n",
       "         ...,\n",
       "         [ 0.],\n",
       "         [ 0.],\n",
       "         [ 0.]],\n",
       "\n",
       "        [[ 0.],\n",
       "         [ 0.],\n",
       "         [ 0.],\n",
       "         ...,\n",
       "         [-1.],\n",
       "         [ 0.],\n",
       "         [ 0.]],\n",
       "\n",
       "        ...,\n",
       "\n",
       "        [[ 0.],\n",
       "         [ 0.],\n",
       "         [ 0.],\n",
       "         ...,\n",
       "         [ 0.],\n",
       "         [ 0.],\n",
       "         [ 0.]],\n",
       "\n",
       "        [[ 0.],\n",
       "         [ 0.],\n",
       "         [ 0.],\n",
       "         ...,\n",
       "         [ 0.],\n",
       "         [ 0.],\n",
       "         [ 0.]],\n",
       "\n",
       "        [[ 0.],\n",
       "         [ 0.],\n",
       "         [ 0.],\n",
       "         ...,\n",
       "         [ 0.],\n",
       "         [ 0.],\n",
       "         [ 0.]]],\n",
       "\n",
       "\n",
       "       [[[ 0.],\n",
       "         [ 0.],\n",
       "         [ 0.],\n",
       "         ...,\n",
       "         [ 0.],\n",
       "         [ 0.],\n",
       "         [ 0.]],\n",
       "\n",
       "        [[ 0.],\n",
       "         [ 0.],\n",
       "         [ 0.],\n",
       "         ...,\n",
       "         [ 0.],\n",
       "         [ 0.],\n",
       "         [ 0.]],\n",
       "\n",
       "        [[ 0.],\n",
       "         [ 0.],\n",
       "         [ 0.],\n",
       "         ...,\n",
       "         [ 0.],\n",
       "         [ 0.],\n",
       "         [ 0.]],\n",
       "\n",
       "        ...,\n",
       "\n",
       "        [[ 0.],\n",
       "         [ 0.],\n",
       "         [ 0.],\n",
       "         ...,\n",
       "         [ 1.],\n",
       "         [ 0.],\n",
       "         [ 0.]],\n",
       "\n",
       "        [[ 0.],\n",
       "         [ 0.],\n",
       "         [ 0.],\n",
       "         ...,\n",
       "         [ 0.],\n",
       "         [ 0.],\n",
       "         [ 0.]],\n",
       "\n",
       "        [[ 0.],\n",
       "         [ 0.],\n",
       "         [ 0.],\n",
       "         ...,\n",
       "         [ 0.],\n",
       "         [ 0.],\n",
       "         [ 0.]]],\n",
       "\n",
       "\n",
       "       ...,\n",
       "\n",
       "\n",
       "       [[[ 0.],\n",
       "         [ 0.],\n",
       "         [ 0.],\n",
       "         ...,\n",
       "         [ 0.],\n",
       "         [ 0.],\n",
       "         [ 0.]],\n",
       "\n",
       "        [[ 0.],\n",
       "         [ 0.],\n",
       "         [ 0.],\n",
       "         ...,\n",
       "         [ 0.],\n",
       "         [ 0.],\n",
       "         [ 0.]],\n",
       "\n",
       "        [[ 0.],\n",
       "         [ 0.],\n",
       "         [ 0.],\n",
       "         ...,\n",
       "         [ 0.],\n",
       "         [ 0.],\n",
       "         [ 0.]],\n",
       "\n",
       "        ...,\n",
       "\n",
       "        [[ 0.],\n",
       "         [ 0.],\n",
       "         [ 0.],\n",
       "         ...,\n",
       "         [ 1.],\n",
       "         [ 1.],\n",
       "         [-1.]],\n",
       "\n",
       "        [[ 0.],\n",
       "         [ 0.],\n",
       "         [ 0.],\n",
       "         ...,\n",
       "         [ 0.],\n",
       "         [ 0.],\n",
       "         [ 0.]],\n",
       "\n",
       "        [[ 0.],\n",
       "         [ 0.],\n",
       "         [ 0.],\n",
       "         ...,\n",
       "         [ 0.],\n",
       "         [ 0.],\n",
       "         [ 0.]]],\n",
       "\n",
       "\n",
       "       [[[ 0.],\n",
       "         [ 0.],\n",
       "         [ 0.],\n",
       "         ...,\n",
       "         [ 0.],\n",
       "         [ 0.],\n",
       "         [ 0.]],\n",
       "\n",
       "        [[ 0.],\n",
       "         [ 0.],\n",
       "         [ 1.],\n",
       "         ...,\n",
       "         [ 0.],\n",
       "         [ 0.],\n",
       "         [ 0.]],\n",
       "\n",
       "        [[ 0.],\n",
       "         [ 0.],\n",
       "         [ 1.],\n",
       "         ...,\n",
       "         [ 0.],\n",
       "         [ 0.],\n",
       "         [ 0.]],\n",
       "\n",
       "        ...,\n",
       "\n",
       "        [[ 0.],\n",
       "         [ 0.],\n",
       "         [ 0.],\n",
       "         ...,\n",
       "         [ 0.],\n",
       "         [ 0.],\n",
       "         [ 0.]],\n",
       "\n",
       "        [[ 0.],\n",
       "         [ 0.],\n",
       "         [ 0.],\n",
       "         ...,\n",
       "         [ 0.],\n",
       "         [ 0.],\n",
       "         [ 0.]],\n",
       "\n",
       "        [[ 0.],\n",
       "         [ 0.],\n",
       "         [ 0.],\n",
       "         ...,\n",
       "         [ 0.],\n",
       "         [ 0.],\n",
       "         [ 0.]]],\n",
       "\n",
       "\n",
       "       [[[ 0.],\n",
       "         [ 0.],\n",
       "         [ 0.],\n",
       "         ...,\n",
       "         [ 0.],\n",
       "         [ 0.],\n",
       "         [ 0.]],\n",
       "\n",
       "        [[ 0.],\n",
       "         [ 0.],\n",
       "         [ 0.],\n",
       "         ...,\n",
       "         [ 0.],\n",
       "         [ 0.],\n",
       "         [ 0.]],\n",
       "\n",
       "        [[ 0.],\n",
       "         [ 0.],\n",
       "         [ 0.],\n",
       "         ...,\n",
       "         [-1.],\n",
       "         [-1.],\n",
       "         [ 0.]],\n",
       "\n",
       "        ...,\n",
       "\n",
       "        [[ 0.],\n",
       "         [ 0.],\n",
       "         [ 0.],\n",
       "         ...,\n",
       "         [ 0.],\n",
       "         [ 0.],\n",
       "         [ 0.]],\n",
       "\n",
       "        [[ 0.],\n",
       "         [ 0.],\n",
       "         [ 0.],\n",
       "         ...,\n",
       "         [ 0.],\n",
       "         [ 0.],\n",
       "         [ 0.]],\n",
       "\n",
       "        [[ 0.],\n",
       "         [ 0.],\n",
       "         [ 0.],\n",
       "         ...,\n",
       "         [ 0.],\n",
       "         [ 0.],\n",
       "         [ 0.]]]], dtype=float32)"
      ]
     },
     "execution_count": 8,
     "metadata": {},
     "output_type": "execute_result"
    }
   ],
   "source": [
    "x_train"
   ]
  },
  {
   "cell_type": "code",
   "execution_count": 9,
   "id": "23241c84",
   "metadata": {},
   "outputs": [
    {
     "data": {
      "image/png": "[encoded data removed]",
      "text/plain": [
       "<Figure size 1200x800 with 16 Axes>"
      ]
     },
     "metadata": {},
     "output_type": "display_data"
    }
   ],
   "source": [
    "import matplotlib.pyplot as plt\n",
    "count = 0\n",
    "plt.figure(figsize=(12,8))\n",
    "for n in range(8):\n",
    "    count += 1\n",
    "    plt.subplot(4, 4, count)\n",
    "    plt.imshow(x_test[n].reshape(19, 19), cmap='Greys', interpolation='nearest')\n",
    "    count += 1\n",
    "    plt.subplot(4, 4, count)\n",
    "    plt.imshow(y_test[n].reshape(19, 19), cmap='Greys', interpolation='nearest')\n",
    "\n",
    "plt.tight_layout()\n",
    "plt.show()"
   ]
  },
  {
   "cell_type": "code",
   "execution_count": 10,
   "id": "mediterranean-cuisine",
   "metadata": {},
   "outputs": [
    {
     "name": "stdout",
     "output_type": "stream",
     "text": [
      "Model: \"sequential\"\n",
      "_________________________________________________________________\n",
      "Layer (type)                 Output Shape              Param #   \n",
      "=================================================================\n",
      "conv2d (Conv2D)              (None, 19, 19, 32)        1600      \n",
      "_________________________________________________________________\n",
      "conv2d_1 (Conv2D)            (None, 19, 19, 64)        100416    \n",
      "_________________________________________________________________\n",
      "conv2d_2 (Conv2D)            (None, 19, 19, 128)       401536    \n",
      "_________________________________________________________________\n",
      "conv2d_3 (Conv2D)            (None, 19, 19, 256)       1605888   \n",
      "_________________________________________________________________\n",
      "conv2d_4 (Conv2D)            (None, 19, 19, 64)        802880    \n",
      "_________________________________________________________________\n",
      "conv2d_5 (Conv2D)            (None, 19, 19, 32)        100384    \n",
      "_________________________________________________________________\n",
      "conv2d_6 (Conv2D)            (None, 19, 19, 1)         33        \n",
      "_________________________________________________________________\n",
      "flatten (Flatten)            (None, 361)               0         \n",
      "_________________________________________________________________\n",
      "dense (Dense)                (None, 1000)              362000    \n",
      "_________________________________________________________________\n",
      "dropout (Dropout)            (None, 1000)              0         \n",
      "_________________________________________________________________\n",
      "dense_1 (Dense)              (None, 361)               361361    \n",
      "_________________________________________________________________\n",
      "activation (Activation)      (None, 361)               0         \n",
      "=================================================================\n",
      "Total params: 3,736,098\n",
      "Trainable params: 3,736,098\n",
      "Non-trainable params: 0\n",
      "_________________________________________________________________\n"
     ]
    }
   ],
   "source": [
    "########################################################################################################################\n",
    "# model = models.Sequential([\n",
    "#     layers.Flatten(input_shape=(h, w, 1)),\n",
    "#     layers.Dense(1024, activation='relu'),\n",
    "#     layers.Dropout(0.4),\n",
    "#     layers.Dense(1024, activation='relu'),\n",
    "#     layers.Dense(225),\n",
    "#     layers.Activation('softmax')\n",
    "#     ])\n",
    "\n",
    "# model.compile(\n",
    "#     optimizer='adam',\n",
    "#     loss='binary_crossentropy',# binary_crossentropy, sparse_categorical_crossentropy\n",
    "#     metrics=['accuracy']\n",
    "# )\n",
    "\n",
    "# model.summary()\n",
    "\n",
    "########################################################################################################################\n",
    "model = models.Sequential([\n",
    "    layers.Conv2D(32, kernel_size=7, activation='relu', padding='same', input_shape=(h, w, 1)),\n",
    "    layers.Conv2D(64, kernel_size=7, activation='relu', padding='same'),\n",
    "    layers.Conv2D(128, kernel_size=7, activation='relu', padding='same'),\n",
    "    layers.Conv2D(256, kernel_size=7, activation='relu', padding='same'),\n",
    "#     layers.Conv2D(128, kernel_size=7, activation='relu', padding='same'),\n",
    "    layers.Conv2D(64, kernel_size=7, activation='relu', padding='same'),\n",
    "    layers.Conv2D(32, kernel_size=7, activation='relu', padding='same'),\n",
    "    layers.Conv2D(1, 1, activation=None, padding='same'),\n",
    "\n",
    "    layers.Flatten(),\n",
    "    layers.Dense(1000, activation='relu'),\n",
    "    layers.Dropout(0.1),\n",
    "    layers.Dense(361),\n",
    "    layers.Activation('softmax')\n",
    "    ])\n",
    "\n",
    "model.compile(\n",
    "    optimizer='adam',\n",
    "    loss='binary_crossentropy',# binary_crossentropy, sparse_categorical_crossentropy\n",
    "    metrics=['accuracy']\n",
    ")\n",
    "\n",
    "model.summary()\n",
    "########################################################################################################################\n",
    "\n",
    "\n",
    "\n",
    "# model = models.Sequential([\n",
    "#     layers.Conv2D(64, 7, activation='relu', padding='same', input_shape=(h, w, 1)),\n",
    "#     layers.Conv2D(128, 7, activation='relu', padding='same'),\n",
    "#     layers.Conv2D(256, 7, activation='relu', padding='same'),\n",
    "#     layers.Conv2D(128, 7, activation='relu', padding='same'),\n",
    "#     layers.Conv2D(64, 7, activation='relu', padding='same'),\n",
    "#     layers.Conv2D(1, 1, activation=None, padding='same'),\n",
    "#     layers.Reshape((h * w,)),\n",
    "#     layers.Activation('softmax')\n",
    "# ])\n",
    "\n",
    "# model.compile(\n",
    "#     optimizer='adam',\n",
    "#     loss='sparse_categorical_crossentropy',\n",
    "#     metrics=['acc']\n",
    "# )\n",
    "\n",
    "# model.summary()\n",
    "########################################################################################################################"
   ]
  },
  {
   "cell_type": "markdown",
   "id": "b394c426",
   "metadata": {},
   "source": [
    "## model plot"
   ]
  },
  {
   "cell_type": "code",
   "execution_count": 11,
   "id": "0684c129",
   "metadata": {},
   "outputs": [
    {
     "data": {
      "image/png": "[encoded data removed]",
      "text/plain": [
       "<IPython.core.display.Image object>"
      ]
     },
     "execution_count": 11,
     "metadata": {},
     "output_type": "execute_result"
    }
   ],
   "source": [
    "plot_model(model, to_file='model.png')\n",
    "plot_model(model, to_file='model_shapes.png', show_shapes=True)"
   ]
  },
  {
   "cell_type": "markdown",
   "id": "ae1c7f8b",
   "metadata": {},
   "source": [
    "### 정확도(Accuracy)\n",
    " - 전체 데이터에 대한 예측 오류의 수\n",
    " \n",
    "### 손실(Loss)\n",
    " - 실제 정답과 모델이 예측 한 값 사이의 차이"
   ]
  },
  {
   "cell_type": "code",
   "execution_count": 12,
   "id": "patient-helicopter",
   "metadata": {
    "scrolled": false
   },
   "outputs": [
    {
     "name": "stdout",
     "output_type": "stream",
     "text": [
      "Epoch 1/50\n",
      "114457/114457 [==============================] - 2759s 24ms/step - loss: 0.0097 - accuracy: 0.4241 - val_loss: 0.0059 - val_accuracy: 0.5798\n",
      "\n",
      "Epoch 00001: val_accuracy improved from -inf to 0.57977, saving model to ./models\\20221104_213024.h5\n",
      "Epoch 2/50\n",
      "114457/114457 [==============================] - 2617s 23ms/step - loss: 0.0058 - accuracy: 0.5854 - val_loss: 0.0057 - val_accuracy: 0.5875\n",
      "\n",
      "Epoch 00002: val_accuracy improved from 0.57977 to 0.58752, saving model to ./models\\20221104_213024.h5\n",
      "Epoch 3/50\n",
      "114457/114457 [==============================] - 2594s 23ms/step - loss: 0.0056 - accuracy: 0.5957 - val_loss: 0.0056 - val_accuracy: 0.5942\n",
      "\n",
      "Epoch 00003: val_accuracy improved from 0.58752 to 0.59424, saving model to ./models\\20221104_213024.h5\n",
      "Epoch 4/50\n",
      "114457/114457 [==============================] - 2594s 23ms/step - loss: 0.0056 - accuracy: 0.5987 - val_loss: 0.0056 - val_accuracy: 0.5943\n",
      "\n",
      "Epoch 00004: val_accuracy improved from 0.59424 to 0.59425, saving model to ./models\\20221104_213024.h5\n",
      "Epoch 5/50\n",
      "114457/114457 [==============================] - 2592s 23ms/step - loss: 0.0057 - accuracy: 0.5984 - val_loss: 0.0056 - val_accuracy: 0.5957\n",
      "\n",
      "Epoch 00005: val_accuracy improved from 0.59425 to 0.59568, saving model to ./models\\20221104_213024.h5\n",
      "Epoch 6/50\n",
      "114457/114457 [==============================] - 2601s 23ms/step - loss: 0.0056 - accuracy: 0.6009 - val_loss: 0.0057 - val_accuracy: 0.5975\n",
      "\n",
      "Epoch 00006: val_accuracy improved from 0.59568 to 0.59748, saving model to ./models\\20221104_213024.h5\n",
      "Epoch 7/50\n",
      "114457/114457 [==============================] - 2592s 23ms/step - loss: 0.0056 - accuracy: 0.6028 - val_loss: 0.0057 - val_accuracy: 0.5935\n",
      "\n",
      "Epoch 00007: val_accuracy did not improve from 0.59748\n",
      "Epoch 8/50\n",
      "114457/114457 [==============================] - 2588s 23ms/step - loss: 0.0057 - accuracy: 0.5995 - val_loss: 0.0056 - val_accuracy: 0.5974\n",
      "\n",
      "Epoch 00008: val_accuracy did not improve from 0.59748\n",
      "Epoch 9/50\n",
      "114457/114457 [==============================] - 2586s 23ms/step - loss: 0.0056 - accuracy: 0.6004 - val_loss: 0.0056 - val_accuracy: 0.5978\n",
      "\n",
      "Epoch 00009: val_accuracy improved from 0.59748 to 0.59782, saving model to ./models\\20221104_213024.h5\n",
      "Epoch 10/50\n",
      "114457/114457 [==============================] - 2582s 23ms/step - loss: 0.0057 - accuracy: 0.6020 - val_loss: 0.0067 - val_accuracy: 0.5596\n",
      "\n",
      "Epoch 00010: val_accuracy did not improve from 0.59782\n",
      "Epoch 11/50\n",
      "114457/114457 [==============================] - 2581s 23ms/step - loss: 0.0063 - accuracy: 0.5824 - val_loss: 0.0063 - val_accuracy: 0.5620\n",
      "\n",
      "Epoch 00011: val_accuracy did not improve from 0.59782\n",
      "Epoch 12/50\n",
      "114457/114457 [==============================] - 2576s 23ms/step - loss: 0.0073 - accuracy: 0.5870 - val_loss: 0.0057 - val_accuracy: 0.5962\n",
      "\n",
      "Epoch 00012: val_accuracy did not improve from 0.59782\n",
      "Epoch 13/50\n",
      "114457/114457 [==============================] - 2578s 23ms/step - loss: 0.0063 - accuracy: 0.5846 - val_loss: 0.0061 - val_accuracy: 0.5706\n",
      "\n",
      "Epoch 00013: val_accuracy did not improve from 0.59782\n",
      "Epoch 14/50\n",
      "114457/114457 [==============================] - 2586s 23ms/step - loss: 0.0061 - accuracy: 0.5808 - val_loss: 0.0061 - val_accuracy: 0.5701\n",
      "\n",
      "Epoch 00014: val_accuracy did not improve from 0.59782\n",
      "\n",
      "Epoch 00014: ReduceLROnPlateau reducing learning rate to 0.00020000000949949026.\n"
     ]
    }
   ],
   "source": [
    "# start_time = datetime.now().strftime('%Y%m%d_%H%M%S')\n",
    "# os.makedirs('models', exist_ok=True)\n",
    "\n",
    "# history = model.fit(\n",
    "#     x=x_train,\n",
    "#     y=y_train,\n",
    "#     batch_size=64,\n",
    "#     epochs=40,\n",
    "#     shuffle=True,\n",
    "#     callbacks=[\n",
    "#         ModelCheckpoint('./models/%s.h5' % (start_time), monitor='val_accuracy', verbose=1, save_best_only=True, mode='max'),\n",
    "#         ReduceLROnPlateau(monitor='val_accuracy', factor=0.2, patience=5, verbose=1, mode='auto'),\n",
    "#         EarlyStopping(monitor='val_accuracy', patience=5)\n",
    "#     ],\n",
    "#     validation_data=(x_val, y_val),\n",
    "#     use_multiprocessing=True,\n",
    "#     workers=32\n",
    "# ) # epoch 40 -> accuracy: 0.85\n",
    "########################################################################################################################\n",
    "start_time = datetime.now().strftime('%Y%m%d_%H%M%S')\n",
    "os.makedirs('models', exist_ok=True)\n",
    "\n",
    "history = model.fit(\n",
    "    x=x_train,\n",
    "    y=y_train,\n",
    "    batch_size=64,\n",
    "    epochs=50,\n",
    "    shuffle=True,\n",
    "    callbacks=[\n",
    "        ModelCheckpoint('./models/%s.h5' % (start_time), monitor='val_accuracy', verbose=1, save_best_only=True, mode='max'),\n",
    "        ReduceLROnPlateau(monitor='val_accuracy', factor=0.2, patience=5, verbose=1, mode='auto'),\n",
    "        EarlyStopping(monitor='val_accuracy', patience=5)\n",
    "    ],\n",
    "    validation_data=(x_val, y_val),\n",
    "    use_multiprocessing=True,\n",
    "    workers=32\n",
    ")\n",
    "########################################################################################################################"
   ]
  },
  {
   "cell_type": "code",
   "execution_count": 13,
   "id": "de662694",
   "metadata": {},
   "outputs": [
    {
     "name": "stdout",
     "output_type": "stream",
     "text": [
      " 0 0 0 0 0 0 0 0 0 0 0 0 0 0 0 0 0 0 0\n",
      " 0 0 0 0 0 0 0 0 0 0 0 0 0 0 0 0 0 0 0\n",
      " 0 0 0 0 0 0 0 0 0 0 0 0 0 0 0 0 0 0 0\n",
      " 0 0 0 0 0 0 0 0 0 0 0 0 0 0 0-1 0 0 0\n",
      " 0 0 0 0 0 0 0 0 0-1 0 0 0 0 1 0 0 0 0\n",
      " 0 0 0 0 0 0-1 0 1 0 0 0 1 0 0 0 0 0 0\n",
      " 0 0 0 0 0 0-1 1 0 0 0-1 0 0 0 0 0 0 0\n",
      " 0 0 0 0 0 0 1 1 1-1 0 0 0 0 0 0 0 0 0\n",
      " 0 0 0 0 0 1 0-1-1 1 0 0 0 0 0 0 0 0 0\n",
      " 0 0 0 0-1 0 0 0-1 0 0 0 0 0 0 0 0 0 0\n",
      " 0 0 0 0 0 0 0 0 0 0 0 0 0 0 0 0 0 0 0\n",
      " 0 0 0 0 0 0 0 0 0 0 0 0 0 0 0 0 0 0 0\n",
      " 0 0 0 0 0 0 0 0 0 0 0 0 0 0 0 0 0 0 0\n",
      " 0 0 0 0 0 0 0 0 0 0 0 0 0 0 0 0 0 0 0\n",
      " 0 0 0 0 0 0 0 0 0 0 0 0 0 0 0 0 0 0 0\n",
      " 0 0 0 0 0 0 0 0 0 0 0 0 0 0 0 0 0 0 0\n",
      " 0 0 0 0 0 0 0 0 0 0 0 0 0 0 0 0 0 0 0\n",
      " 0 0 0 0 0 0 0 0 0 0 0 0 0 0 0 0 0 0 0\n",
      " 0 0 0 0 0 0 0 0 0 0 0 0 0 0 0 0 0 0 0\n"
     ]
    }
   ],
   "source": [
    "i = 10\n",
    "for y in range(h):\n",
    "    for x in range(w):\n",
    "        print('%2d' % x_test[i][y, x], end='')\n",
    "    print()"
   ]
  },
  {
   "cell_type": "code",
   "execution_count": 14,
   "id": "7af7a25c",
   "metadata": {},
   "outputs": [
    {
     "name": "stdout",
     "output_type": "stream",
     "text": [
      "dict_keys(['loss', 'accuracy', 'val_loss', 'val_accuracy', 'lr'])\n"
     ]
    }
   ],
   "source": [
    "print(history.history.keys())"
   ]
  },
  {
   "cell_type": "code",
   "execution_count": 15,
   "id": "d0f5105f",
   "metadata": {
    "scrolled": false
   },
   "outputs": [
    {
     "data": {
      "image/png": "[encoded data removed]",
      "text/plain": [
       "<Figure size 640x480 with 1 Axes>"
      ]
     },
     "metadata": {},
     "output_type": "display_data"
    }
   ],
   "source": [
    "import matplotlib.pyplot as plt\n",
    "plt.plot(history.history['loss'])\n",
    "plt.plot(history.history['val_loss'])\n",
    "plt.title('Loss Trend') # trend -> 경향, 방향\n",
    "plt.xlabel('epoch')\n",
    "plt.ylabel('loss')\n",
    "plt.legend(['train_loss', 'val_loss'], loc='best')\n",
    "plt.grid()\n",
    "plt.show()"
   ]
  },
  {
   "cell_type": "code",
   "execution_count": 16,
   "id": "6438b3c6",
   "metadata": {},
   "outputs": [
    {
     "data": {
      "image/png": "[encoded data removed]",
      "text/plain": [
       "<Figure size 640x480 with 1 Axes>"
      ]
     },
     "metadata": {},
     "output_type": "display_data"
    }
   ],
   "source": [
    "plt.plot(history.history['accuracy'])\n",
    "plt.plot(history.history['val_accuracy'])\n",
    "plt.title('Accuracy Trend') # trend -> 경향, 방향\n",
    "plt.xlabel('epoch')\n",
    "plt.ylabel('accuracy')\n",
    "plt.legend(['train_acc', 'val_accuracy'], loc='best')\n",
    "plt.grid()\n",
    "plt.show()"
   ]
  },
  {
   "cell_type": "code",
   "execution_count": null,
   "id": "052c88f0",
   "metadata": {},
   "outputs": [],
   "source": []
  },
  {
   "cell_type": "code",
   "execution_count": 17,
   "id": "binding-bidding",
   "metadata": {
    "scrolled": true
   },
   "outputs": [
    {
     "name": "stdout",
     "output_type": "stream",
     "text": [
      " 0 0 0 0 0 0 0 0 0 0 0 0 0 0 0 0 0 0 0\n",
      " 0 0 0 0 0 0 0 0 0 0 0 0 0 0 0 0 0 0 0\n",
      " 0 0 0 0 0 0 0 0 0 0 0 0 0 0 0 0 0 0 0\n",
      " 0 0 0 0 0 0 0 0 0 0 0 0 0 0 0 0 0 0 0\n",
      " 0 0 0 0 0 0 0 0 0 0 0 0 0 0 0 0 0 0 0\n",
      " 0 0 0 0 0 0 0 0 0 0 0 0 0 0 0 0 0 0 0\n",
      " 0 0 0 0 0 0 0 0 0 0 0 0 0 0 0 0 0 0 0\n",
      " 0 0 0 0 0 0 0 0 0 0 0 0 0 0 0 0 0 0 0\n",
      " 0 0 0 0 0 0 0 0 0 0 0 0 0-1 0 0 0 0 0\n",
      " 0 0 0 0 0 0 0 0 0 0 0 0 0 1 0 0 0 0 0\n",
      " 0 0 0 0 0 0 0 0 0 0 0 0 0 1 0 0 0 0 0\n",
      " 0 0 0 0 0 0 0 0 0 0 0 0-1 0-1 0 0 0 0\n",
      " 0 0 0 0 0 0 0 0 0 0 0-1 1 1 1 0 0 0 0\n",
      " 0 0 0 0 0 0 0 0 0 0 0 0-1-1 1-1 0 0 0\n",
      " 0 0 0 0 0 0 0 0 0 0 0 0-1 1 1 1-1 0 0\n",
      " 0 0 0 0 0 0 0 0 0 0 0 0 0 1-1 0-1 0 0\n",
      " 0 0 0 0 0 0 0 0 0 0 0 0 0 0 0 0-1 0 0\n",
      " 0 0 0 0 0 0 0 0 0 0 0 0 0 0 0 0 1 0 0\n",
      " 0 0 0 0 0 0 0 0 0 0 0 0 0 0 0 0 0 0 0\n"
     ]
    }
   ],
   "source": [
    "i = 12\n",
    "for y in range(h):\n",
    "    for x in range(w):\n",
    "        print('%2d' % x_val[i][y, x], end='')\n",
    "    print()"
   ]
  },
  {
   "cell_type": "code",
   "execution_count": 20,
   "id": "seventh-diversity",
   "metadata": {},
   "outputs": [
    {
     "name": "stdout",
     "output_type": "stream",
     "text": [
      "x_val[1].shpae = (19, 19, 1)\n",
      "input_1.shpae = (361,)\n",
      "predict = 0.9999809265136719\n",
      "268\n",
      "14, 2\n"
     ]
    }
   ],
   "source": [
    "# y_pred = model.predict(np.expand_dims(x_val[i], axis=0)).squeeze()\n",
    "# y_pred = y_pred.reshape((h, w))\n",
    "\n",
    "# y, x = np.unravel_index(np.argmax(y_pred), y_pred.shape)\n",
    "\n",
    "# print(x, y, y_pred[y, x])\n",
    "\n",
    "print(f\"x_val[1].shpae = {x_val[1].shape}\")\n",
    "\n",
    "input_1 = model.predict(np.expand_dims(x_val[i], axis=0)).squeeze()\n",
    "# print(x_val[1])\n",
    "# input_1 = np.expand_dims(x_val[1], axis=0).astype(np.float32)\n",
    "print(f\"input_1.shpae = {input_1.shape}\")\n",
    "output2 = np.argmax(input_1)\n",
    "print(f\"predict = {input_1[output2]}\")\n",
    "print(output2)\n",
    "print(f\"{output2//19}, {output2%19}\") # y, x"
   ]
  },
  {
   "cell_type": "code",
   "execution_count": 25,
   "id": "e58c376c",
   "metadata": {},
   "outputs": [
    {
     "name": "stdout",
     "output_type": "stream",
     "text": [
      "x_val[1].shape = (19, 19, 1)\n",
      "predict = 0.9725846648216248\n",
      "y_, x_ => 14,2\n",
      " 0 0 0 0 0 0 0 0 0 0 0 0 0 0 0 0 0 0 0\n",
      " 0 0 0 0 0 0 0 0 0 0 0 0 0 0 0 0 0 0 0\n",
      " 0 0 0 0 0 0 0 0 0 0 0 0 0 0 0 0 0 0 0\n",
      " 0 0 0 0 0 0 0 0 0 0 0 0 0 0 0 0 0 0 0\n",
      " 0 0 0 0 0 0 0 0 0 0 0 0 0 0 0 0 0 0 0\n",
      " 0 0 0 0 0 0 0 0 0 0 0 0 0 0 0 0 0 0 0\n",
      " 0 0 0 0 0 0 0 0 0 0 0 0 0 0 0 0 0 0 0\n",
      " 0 0 0 0 0 0 0 0 0 0 0 0 0 0 0 0 0 0 0\n",
      " 0 0 0 0 0 0 0 0 0 0 0 0 0 0 0 0 0 0 0\n",
      " 0 0 0 0 0-1 0 0 0 0 0 0 0 0 0 0 0 0 0\n",
      " 0 0 0 0 0 0 1 0 1 0 0 0 0 0 0 0 0 0 0\n",
      " 0 0 0 0 0 0-1 1 0 0 0 0 0 0 0 0 0 0 0\n",
      " 0 0 0 0 0 0 0 0 1 0 0 0 0 0 0 0 0 0 0\n",
      " 0-1 0 0 0 0 0 0 0 0 0 0 0 0 0 0 0 0 0\n",
      " 0 0 7 0 0 0 0 0 0 0 0 0 0 0 0 0 0 0 0\n",
      " 0 0 1-1 0 0 0 0 0 0 0 0 0 0 0 0 0 0 0\n",
      " 0 0 0 0-1-1 0 0 0 0 0 0 0 0 0 0 0 0 0\n",
      " 0 0 0 0 0 0 0 0 0 0 0 0 0 0 0 0 0 0 0\n",
      " 0 0 0 0 0 0 0 0 0 0 0 0 0 0 0 0 0 0 0\n",
      "\n",
      "\n",
      "\n",
      " 0 0 0 0 0 0 0 0 0 0 0 0 0 0 0 0 0 0 0\n",
      " 0 0 0 0 0 0 0 0 0 0 0 0 0 0 0 0 0 0 0\n",
      " 0 0 0 0 0 0 0 0 0 0 0 0 0 0 0 0 0 0 0\n",
      " 0 0 0 0 0 0 0 0 0 0 0 0 0 0 0 0 0 0 0\n",
      " 0 0 0 0 0 0 0 0 0 0 0 0 0 0 0 0 0 0 0\n",
      " 0 0 0 0 0 0 0 0 0 0 0 0 0 0 0 0 0 0 0\n",
      " 0 0 0 0 0 0 0 0 0 0 0 0 0 0 0 0 0 0 0\n",
      " 0 0 0 0 0 0 0 0 0 0 0 0 0 0 0 0 0 0 0\n",
      " 0 0 0 0 0 0 0 0 0 0 0 0 0 0 0 0 0 0 0\n",
      " 0 0 0 0 0-1 0 0 0 0 0 0 0 0 0 0 0 0 0\n",
      " 0 0 0 0 0 0 1 0 1 0 0 0 0 0 0 0 0 0 0\n",
      " 0 0 0 0 0 0-1 1 0 0 0 0 0 0 0 0 0 0 0\n",
      " 0 0 0 0 0 0 0 0 1 0 0 0 0 0 0 0 0 0 0\n",
      " 0-1 0 0 0 0 0 0 0 0 0 0 0 0 0 0 0 0 0\n",
      " 0 0 0 0 0 0 0 0 0 0 0 0 0 0 0 0 0 0 0\n",
      " 0 0 1-1 0 0 0 0 0 0 0 0 0 0 0 0 0 0 0\n",
      " 0 0 0 0-1-1 0 0 0 0 0 0 0 0 0 0 0 0 0\n",
      " 0 0 0 0 0 0 0 0 0 0 0 0 0 0 0 0 0 0 0\n",
      " 0 0 0 0 0 0 0 0 0 0 0 0 0 0 0 0 0 0 0\n"
     ]
    }
   ],
   "source": [
    "i = 204\n",
    "\n",
    "input_1 = model.predict(np.expand_dims(x_val[i], axis=0)).squeeze()\n",
    "# y_, x_ = np.unravel_index(np.argmax(input_1), x_val[i].shape)\n",
    "output2 = np.argmax(input_1)\n",
    "y_, x_ = output2//19, output2%19\n",
    "print(f\"x_val[1].shape = {x_val[1].shape}\")\n",
    "print(f\"predict = {input_1[output2]}\")\n",
    "print(f\"y_, x_ => {y_},{x_}\")\n",
    "\n",
    "a = \"\"\n",
    "for y in range(h):\n",
    "    for x in range(w):\n",
    "        if y == y_ and x == x_:\n",
    "            a += ' 7'\n",
    "        else:\n",
    "            a += str('%2d' % x_val[i][y, x])\n",
    "    print(a)\n",
    "    a = \"\"\n",
    "print(\"\\n\\n\")\n",
    "\n",
    "for y in range(h):\n",
    "    for x in range(w):\n",
    "        print('%2d' % x_val[i][y, x], end='')\n",
    "    print()"
   ]
  },
  {
   "cell_type": "code",
   "execution_count": 26,
   "id": "orange-beads",
   "metadata": {},
   "outputs": [
    {
     "name": "stdout",
     "output_type": "stream",
     "text": [
      "30522/30522 [==============================] - 120s 4ms/step - loss: 0.0055 - accuracy: 0.5997\n"
     ]
    }
   ],
   "source": [
    "# results = model.evaluate(x_val, y_val)\n",
    "results = model.evaluate(x_test, y_test)"
   ]
  },
  {
   "cell_type": "code",
   "execution_count": 23,
   "id": "extraordinary-church",
   "metadata": {},
   "outputs": [
    {
     "name": "stdout",
     "output_type": "stream",
     "text": [
      "val accuracy:  0.622789740562439\n"
     ]
    }
   ],
   "source": [
    "print('val accuracy: ', results[1])"
   ]
  },
  {
   "cell_type": "code",
   "execution_count": null,
   "id": "south-alabama",
   "metadata": {},
   "outputs": [],
   "source": []
  },
  {
   "cell_type": "code",
   "execution_count": null,
   "id": "wrong-birmingham",
   "metadata": {},
   "outputs": [],
   "source": [
    "from tensorflow.keras.models import load_model"
   ]
  },
  {
   "cell_type": "code",
   "execution_count": null,
   "id": "advance-cooler",
   "metadata": {},
   "outputs": [],
   "source": [
    "model = load_model('C:/JupyterProject/models/20220720_232252.h5')"
   ]
  },
  {
   "cell_type": "code",
   "execution_count": null,
   "id": "controlling-disorder",
   "metadata": {},
   "outputs": [],
   "source": [
    "board_array = np.zeros((20, 20), dtype=np.int)\n",
    "input_1 = board_array.copy()\n"
   ]
  },
  {
   "cell_type": "code",
   "execution_count": null,
   "id": "smart-deviation",
   "metadata": {},
   "outputs": [],
   "source": [
    "input_1 = np.expand_dims(input_1, axis=(0, -1)).astype(np.float32)"
   ]
  },
  {
   "cell_type": "code",
   "execution_count": null,
   "id": "improved-polls",
   "metadata": {},
   "outputs": [],
   "source": [
    "output = model.predict(input_1).squeeze()"
   ]
  },
  {
   "cell_type": "code",
   "execution_count": null,
   "id": "binary-undergraduate",
   "metadata": {},
   "outputs": [],
   "source": [
    "output = output.reshape((20, 20))\n",
    "output_y, output_x = np.unravel_index(np.argmax(output), output.shape)\n",
    "print(f\"y->{output_y}, x->{output_x}\")"
   ]
  },
  {
   "cell_type": "code",
   "execution_count": null,
   "id": "greek-extent",
   "metadata": {},
   "outputs": [],
   "source": []
  }
 ],
 "metadata": {
  "kernelspec": {
   "display_name": "Python 3 (ipykernel)",
   "language": "python",
   "name": "python3"
  },
  "language_info": {
   "codemirror_mode": {
    "name": "ipython",
    "version": 3
   },
   "file_extension": ".py",
   "mimetype": "text/x-python",
   "name": "python",
   "nbconvert_exporter": "python",
   "pygments_lexer": "ipython3",
   "version": "3.7.13"
  }
 },
 "nbformat": 4,
 "nbformat_minor": 5
}
